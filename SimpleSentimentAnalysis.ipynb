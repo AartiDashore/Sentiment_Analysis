{
  "nbformat": 4,
  "nbformat_minor": 0,
  "metadata": {
    "colab": {
      "provenance": []
    },
    "kernelspec": {
      "name": "python3",
      "display_name": "Python 3"
    },
    "language_info": {
      "name": "python"
    }
  },
  "cells": [
    {
      "cell_type": "code",
      "execution_count": 9,
      "metadata": {
        "colab": {
          "base_uri": "https://localhost:8080/"
        },
        "id": "mTkwwKId-X9I",
        "outputId": "f111be5b-c8fd-4199-ffb6-7717c275812b"
      },
      "outputs": [
        {
          "output_type": "stream",
          "name": "stdout",
          "text": [
            "Sentiment: positive\n",
            "Sentiment score: 0.85\n"
          ]
        }
      ],
      "source": [
        "from textblob import TextBlob\n",
        "\n",
        "# Define a sample text\n",
        "sample_text = \"I am beautiful.\"\n",
        "\n",
        "# Create a TextBlob object from the sample text\n",
        "blob = TextBlob(sample_text)\n",
        "\n",
        "# Get the sentiment polarity score of the text (-1 to 1)\n",
        "sentiment_score = blob.sentiment.polarity\n",
        "\n",
        "# Classify the sentiment as positive, negative, or neutral based on the score\n",
        "if sentiment_score > 0:\n",
        "    sentiment = \"positive\"\n",
        "elif sentiment_score < 0:\n",
        "    sentiment = \"negative\"\n",
        "else:\n",
        "    sentiment = \"neutral\"\n",
        "\n",
        "# Print the sentiment and the sentiment score\n",
        "print(\"Sentiment: \" + sentiment)\n",
        "print(\"Sentiment score: \" + str(sentiment_score))\n"
      ]
    },
    {
      "cell_type": "markdown",
      "source": [
        "In this example, we use the TextBlob library to perform sentiment analysis on a sample text. We first create a TextBlob object from the sample text, and then use the sentiment.polarity method to get a sentiment polarity score between -1 and 1. We then classify the sentiment as positive, negative, or neutral based on the score, and print both the sentiment and the sentiment score. Note that this is just a simple example, and there are many other libraries and techniques available for sentiment analysis in Python."
      ],
      "metadata": {
        "id": "kKPYNb7T_ROK"
      }
    }
  ]
}